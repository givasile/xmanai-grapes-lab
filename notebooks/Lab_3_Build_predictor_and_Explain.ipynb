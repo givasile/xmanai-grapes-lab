{
 "cells": [
  {
   "cell_type": "code",
   "execution_count": 66,
   "id": "ced545bf",
   "metadata": {
    "pycharm": {
     "name": "#%%\n"
    }
   },
   "outputs": [],
   "source": [
    "import numpy as np\n",
    "import pandas as pd\n",
    "from pathlib import Path"
   ]
  },
  {
   "cell_type": "code",
   "execution_count": 67,
   "id": "76dac46b",
   "metadata": {
    "pycharm": {
     "name": "#%%\n"
    }
   },
   "outputs": [],
   "source": [
    "from sklearn.model_selection import train_test_split\n",
    "from sklearn.preprocessing import MinMaxScaler\n",
    "from sklearn import metrics\n",
    "from sklearn.neural_network import MLPRegressor"
   ]
  },
  {
   "cell_type": "code",
   "execution_count": 68,
   "id": "8b0c7caf",
   "metadata": {
    "pycharm": {
     "name": "#%%\n"
    }
   },
   "outputs": [],
   "source": [
    "import matplotlib.pyplot as plt\n",
    "from matplotlib import cm\n",
    "import matplotlib.colors as colors"
   ]
  },
  {
   "cell_type": "code",
   "execution_count": 69,
   "id": "af0669d9",
   "metadata": {
    "scrolled": true,
    "pycharm": {
     "name": "#%%\n"
    }
   },
   "outputs": [
    {
     "data": {
      "text/plain": "          Rnom       Xnom       Ynom       Znom          R          X  \\\n0      8.00130  -5.186012  -3.672416   4.862041   7.947929  -5.151420   \n1      8.00130   1.865099  -1.576667   7.619470   8.002077   1.865280   \n2      8.00130  -1.993943  -1.865494   7.520966   7.979538  -1.988520   \n3      8.00130   0.482676   3.214214   7.311406   7.966614   0.480584   \n4      8.00130   5.470189   2.896799   5.070146   7.975835   5.452780   \n...        ...        ...        ...        ...        ...        ...   \n4045  15.00425  10.166875   8.333547   7.232853  14.960161  10.137000   \n4046  15.00425   1.907981  -0.768472  14.862590  14.945102   1.900460   \n4047  15.00425   3.328417  10.136954  10.549471  14.989073   3.325050   \n4048  15.00425   6.578290  -6.326970  11.908949  14.973824   6.564950   \n4049  15.00425 -11.937390  -2.689287   8.682971  14.920301 -11.870600   \n\n              Y         Z        Nx        Ny  ...      oriY      oriZ  \\\n0     -3.647920   4.82961 -0.639832 -0.448649  ... -0.449879 -0.376037   \n1     -1.576820   7.62021  0.234097 -0.202082  ... -0.203311 -0.049020   \n2     -1.860420   7.50051 -0.244240 -0.206107  ... -0.207336 -0.052441   \n3      3.200280   7.27971  0.092929  0.421877  ...  0.420648 -0.098121   \n4      2.887580   5.05401  0.682910  0.355493  ...  0.354263 -0.361830   \n...         ...       ...       ...       ...  ...       ...       ...   \n4045   8.309060   7.21160  0.679505  0.555302  ...  0.554073 -0.520507   \n4046  -0.765443  14.80400  0.153036 -0.065725  ... -0.066955 -0.013966   \n4047  10.126700  10.53880  0.225904  0.674502  ...  0.673273 -0.297137   \n4048  -6.314140  11.88480  0.445781 -0.414212  ... -0.415441 -0.206457   \n4049  -2.674240   8.63439 -0.791129 -0.184968  ... -0.186198 -0.416988   \n\n           Inc       ang   ViewAng  \\\n0     0.623358  5.385419  0.356821   \n1     0.950749  0.315153  0.759709   \n2     0.947284  5.957040  0.754812   \n3     0.902404  0.445481  0.995318   \n4     0.638661  0.878040  0.729854   \n...        ...       ...       ...   \n4045  0.480230  1.069880  0.677499   \n4046  0.985963  0.167747  0.852126   \n4047  0.703709  5.492993  0.930567   \n4048  0.793068  0.654967  0.523939   \n4049  0.582719  0.948726  0.438320   \n\n                                            Acmos    AcmosJ  oriYcmos  \\\n0     [8.1483500e-05 5.0106436e-01 9.9999900e-01]  0.501064 -0.949714   \n1     [8.1483500e-05 5.0106436e-01 9.9999900e-01]  0.501064 -0.703146   \n2     [8.1483500e-05 5.0106436e-01 9.9999900e-01]  0.501064 -0.707171   \n3     [8.1483500e-05 5.0106436e-01 9.9999900e-01]  0.501064 -0.079187   \n4     [8.1483500e-05 5.0106436e-01 9.9999900e-01]  0.501064 -0.145572   \n...                                           ...       ...       ...   \n4045  [8.1483500e-05 5.0106436e-01 9.9999900e-01]  0.501064  0.054238   \n4046  [8.1483500e-05 5.0106436e-01 9.9999900e-01]  0.501064 -0.566790   \n4047  [8.1483500e-05 5.0106436e-01 9.9999900e-01]  0.501064  0.173438   \n4048  [8.1483500e-05 5.0106436e-01 9.9999900e-01]  0.501064 -0.915276   \n4049  [8.1483500e-05 5.0106436e-01 9.9999900e-01]  0.501064 -0.686032   \n\n             Rs  PointDev  \n0     85.137959 -0.053371  \n1     82.380530  0.000777  \n2     82.479034 -0.021762  \n3     82.688594 -0.034686  \n4     84.929854 -0.025465  \n...         ...       ...  \n4045  82.767147 -0.044089  \n4046  75.137410 -0.059148  \n4047  79.450529 -0.015177  \n4048  78.091051 -0.030426  \n4049  81.317029 -0.083949  \n\n[4050 rows x 28 columns]",
      "text/html": "<div>\n<style scoped>\n    .dataframe tbody tr th:only-of-type {\n        vertical-align: middle;\n    }\n\n    .dataframe tbody tr th {\n        vertical-align: top;\n    }\n\n    .dataframe thead th {\n        text-align: right;\n    }\n</style>\n<table border=\"1\" class=\"dataframe\">\n  <thead>\n    <tr style=\"text-align: right;\">\n      <th></th>\n      <th>Rnom</th>\n      <th>Xnom</th>\n      <th>Ynom</th>\n      <th>Znom</th>\n      <th>R</th>\n      <th>X</th>\n      <th>Y</th>\n      <th>Z</th>\n      <th>Nx</th>\n      <th>Ny</th>\n      <th>...</th>\n      <th>oriY</th>\n      <th>oriZ</th>\n      <th>Inc</th>\n      <th>ang</th>\n      <th>ViewAng</th>\n      <th>Acmos</th>\n      <th>AcmosJ</th>\n      <th>oriYcmos</th>\n      <th>Rs</th>\n      <th>PointDev</th>\n    </tr>\n  </thead>\n  <tbody>\n    <tr>\n      <th>0</th>\n      <td>8.00130</td>\n      <td>-5.186012</td>\n      <td>-3.672416</td>\n      <td>4.862041</td>\n      <td>7.947929</td>\n      <td>-5.151420</td>\n      <td>-3.647920</td>\n      <td>4.82961</td>\n      <td>-0.639832</td>\n      <td>-0.448649</td>\n      <td>...</td>\n      <td>-0.449879</td>\n      <td>-0.376037</td>\n      <td>0.623358</td>\n      <td>5.385419</td>\n      <td>0.356821</td>\n      <td>[8.1483500e-05 5.0106436e-01 9.9999900e-01]</td>\n      <td>0.501064</td>\n      <td>-0.949714</td>\n      <td>85.137959</td>\n      <td>-0.053371</td>\n    </tr>\n    <tr>\n      <th>1</th>\n      <td>8.00130</td>\n      <td>1.865099</td>\n      <td>-1.576667</td>\n      <td>7.619470</td>\n      <td>8.002077</td>\n      <td>1.865280</td>\n      <td>-1.576820</td>\n      <td>7.62021</td>\n      <td>0.234097</td>\n      <td>-0.202082</td>\n      <td>...</td>\n      <td>-0.203311</td>\n      <td>-0.049020</td>\n      <td>0.950749</td>\n      <td>0.315153</td>\n      <td>0.759709</td>\n      <td>[8.1483500e-05 5.0106436e-01 9.9999900e-01]</td>\n      <td>0.501064</td>\n      <td>-0.703146</td>\n      <td>82.380530</td>\n      <td>0.000777</td>\n    </tr>\n    <tr>\n      <th>2</th>\n      <td>8.00130</td>\n      <td>-1.993943</td>\n      <td>-1.865494</td>\n      <td>7.520966</td>\n      <td>7.979538</td>\n      <td>-1.988520</td>\n      <td>-1.860420</td>\n      <td>7.50051</td>\n      <td>-0.244240</td>\n      <td>-0.206107</td>\n      <td>...</td>\n      <td>-0.207336</td>\n      <td>-0.052441</td>\n      <td>0.947284</td>\n      <td>5.957040</td>\n      <td>0.754812</td>\n      <td>[8.1483500e-05 5.0106436e-01 9.9999900e-01]</td>\n      <td>0.501064</td>\n      <td>-0.707171</td>\n      <td>82.479034</td>\n      <td>-0.021762</td>\n    </tr>\n    <tr>\n      <th>3</th>\n      <td>8.00130</td>\n      <td>0.482676</td>\n      <td>3.214214</td>\n      <td>7.311406</td>\n      <td>7.966614</td>\n      <td>0.480584</td>\n      <td>3.200280</td>\n      <td>7.27971</td>\n      <td>0.092929</td>\n      <td>0.421877</td>\n      <td>...</td>\n      <td>0.420648</td>\n      <td>-0.098121</td>\n      <td>0.902404</td>\n      <td>0.445481</td>\n      <td>0.995318</td>\n      <td>[8.1483500e-05 5.0106436e-01 9.9999900e-01]</td>\n      <td>0.501064</td>\n      <td>-0.079187</td>\n      <td>82.688594</td>\n      <td>-0.034686</td>\n    </tr>\n    <tr>\n      <th>4</th>\n      <td>8.00130</td>\n      <td>5.470189</td>\n      <td>2.896799</td>\n      <td>5.070146</td>\n      <td>7.975835</td>\n      <td>5.452780</td>\n      <td>2.887580</td>\n      <td>5.05401</td>\n      <td>0.682910</td>\n      <td>0.355493</td>\n      <td>...</td>\n      <td>0.354263</td>\n      <td>-0.361830</td>\n      <td>0.638661</td>\n      <td>0.878040</td>\n      <td>0.729854</td>\n      <td>[8.1483500e-05 5.0106436e-01 9.9999900e-01]</td>\n      <td>0.501064</td>\n      <td>-0.145572</td>\n      <td>84.929854</td>\n      <td>-0.025465</td>\n    </tr>\n    <tr>\n      <th>...</th>\n      <td>...</td>\n      <td>...</td>\n      <td>...</td>\n      <td>...</td>\n      <td>...</td>\n      <td>...</td>\n      <td>...</td>\n      <td>...</td>\n      <td>...</td>\n      <td>...</td>\n      <td>...</td>\n      <td>...</td>\n      <td>...</td>\n      <td>...</td>\n      <td>...</td>\n      <td>...</td>\n      <td>...</td>\n      <td>...</td>\n      <td>...</td>\n      <td>...</td>\n      <td>...</td>\n    </tr>\n    <tr>\n      <th>4045</th>\n      <td>15.00425</td>\n      <td>10.166875</td>\n      <td>8.333547</td>\n      <td>7.232853</td>\n      <td>14.960161</td>\n      <td>10.137000</td>\n      <td>8.309060</td>\n      <td>7.21160</td>\n      <td>0.679505</td>\n      <td>0.555302</td>\n      <td>...</td>\n      <td>0.554073</td>\n      <td>-0.520507</td>\n      <td>0.480230</td>\n      <td>1.069880</td>\n      <td>0.677499</td>\n      <td>[8.1483500e-05 5.0106436e-01 9.9999900e-01]</td>\n      <td>0.501064</td>\n      <td>0.054238</td>\n      <td>82.767147</td>\n      <td>-0.044089</td>\n    </tr>\n    <tr>\n      <th>4046</th>\n      <td>15.00425</td>\n      <td>1.907981</td>\n      <td>-0.768472</td>\n      <td>14.862590</td>\n      <td>14.945102</td>\n      <td>1.900460</td>\n      <td>-0.765443</td>\n      <td>14.80400</td>\n      <td>0.153036</td>\n      <td>-0.065725</td>\n      <td>...</td>\n      <td>-0.066955</td>\n      <td>-0.013966</td>\n      <td>0.985963</td>\n      <td>0.167747</td>\n      <td>0.852126</td>\n      <td>[8.1483500e-05 5.0106436e-01 9.9999900e-01]</td>\n      <td>0.501064</td>\n      <td>-0.566790</td>\n      <td>75.137410</td>\n      <td>-0.059148</td>\n    </tr>\n    <tr>\n      <th>4047</th>\n      <td>15.00425</td>\n      <td>3.328417</td>\n      <td>10.136954</td>\n      <td>10.549471</td>\n      <td>14.989073</td>\n      <td>3.325050</td>\n      <td>10.126700</td>\n      <td>10.53880</td>\n      <td>0.225904</td>\n      <td>0.674502</td>\n      <td>...</td>\n      <td>0.673273</td>\n      <td>-0.297137</td>\n      <td>0.703709</td>\n      <td>5.492993</td>\n      <td>0.930567</td>\n      <td>[8.1483500e-05 5.0106436e-01 9.9999900e-01]</td>\n      <td>0.501064</td>\n      <td>0.173438</td>\n      <td>79.450529</td>\n      <td>-0.015177</td>\n    </tr>\n    <tr>\n      <th>4048</th>\n      <td>15.00425</td>\n      <td>6.578290</td>\n      <td>-6.326970</td>\n      <td>11.908949</td>\n      <td>14.973824</td>\n      <td>6.564950</td>\n      <td>-6.314140</td>\n      <td>11.88480</td>\n      <td>0.445781</td>\n      <td>-0.414212</td>\n      <td>...</td>\n      <td>-0.415441</td>\n      <td>-0.206457</td>\n      <td>0.793068</td>\n      <td>0.654967</td>\n      <td>0.523939</td>\n      <td>[8.1483500e-05 5.0106436e-01 9.9999900e-01]</td>\n      <td>0.501064</td>\n      <td>-0.915276</td>\n      <td>78.091051</td>\n      <td>-0.030426</td>\n    </tr>\n    <tr>\n      <th>4049</th>\n      <td>15.00425</td>\n      <td>-11.937390</td>\n      <td>-2.689287</td>\n      <td>8.682971</td>\n      <td>14.920301</td>\n      <td>-11.870600</td>\n      <td>-2.674240</td>\n      <td>8.63439</td>\n      <td>-0.791129</td>\n      <td>-0.184968</td>\n      <td>...</td>\n      <td>-0.186198</td>\n      <td>-0.416988</td>\n      <td>0.582719</td>\n      <td>0.948726</td>\n      <td>0.438320</td>\n      <td>[8.1483500e-05 5.0106436e-01 9.9999900e-01]</td>\n      <td>0.501064</td>\n      <td>-0.686032</td>\n      <td>81.317029</td>\n      <td>-0.083949</td>\n    </tr>\n  </tbody>\n</table>\n<p>4050 rows × 28 columns</p>\n</div>"
     },
     "execution_count": 69,
     "metadata": {},
     "output_type": "execute_result"
    }
   ],
   "source": [
    "## Load measurement data\n",
    "maindir = Path.cwd() / \"tutorial_data/\"\n",
    "data = maindir / \"Sphere_data_short.csv\"\n",
    "df = pd.read_csv(data, sep=',', header=0)\n",
    "df"
   ]
  },
  {
   "cell_type": "code",
   "execution_count": 70,
   "id": "3b044f23",
   "metadata": {
    "pycharm": {
     "name": "#%%\n"
    }
   },
   "outputs": [],
   "source": [
    "## randomization settings\n",
    "seed_num = 21\n",
    "np.random.seed(seed_num)"
   ]
  },
  {
   "cell_type": "code",
   "execution_count": 71,
   "id": "e46716a7",
   "metadata": {
    "pycharm": {
     "name": "#%%\n"
    }
   },
   "outputs": [
    {
     "name": "stdout",
     "output_type": "stream",
     "text": [
      "['Rnom' 'Xnom' 'Ynom' 'Znom' 'R' 'X' 'Y' 'Z' 'Nx' 'Ny' 'Nz' 'I' 'J' 'K'\n",
      " 'LateralDensity' 'DirectionDensity' 'ExposureTime' 'oriX' 'oriY' 'oriZ'\n",
      " 'Inc' 'ang' 'ViewAng' 'Acmos' 'AcmosJ' 'oriYcmos' 'Rs' 'PointDev']\n"
     ]
    }
   ],
   "source": [
    "print(df.columns.to_numpy())"
   ]
  },
  {
   "cell_type": "code",
   "execution_count": 72,
   "id": "1271700f",
   "metadata": {
    "pycharm": {
     "name": "#%%\n"
    }
   },
   "outputs": [],
   "source": [
    "## select input features, target variable fro dataframe columns\n",
    "feature_names = ['Nx', 'Ny', 'Nz', 'Xnom', 'Ynom', 'Znom',\n",
    "                 'LateralDensity', 'DirectionDensity', 'ExposureTime',\n",
    "                 'oriX', 'oriY', 'oriZ', 'Inc', 'ang', 'ViewAng', 'Rs',\n",
    "                 'AcmosJ', 'oriYcmos']\n",
    "target_variable = 'PointDev'"
   ]
  },
  {
   "cell_type": "code",
   "execution_count": 73,
   "id": "3c182a3b",
   "metadata": {
    "pycharm": {
     "name": "#%%\n"
    }
   },
   "outputs": [],
   "source": [
    "## Scale features & target to [0, 1] interval\n",
    "Xall = df[feature_names].values\n",
    "Yall = df[target_variable].values.reshape(-1, 1)\n",
    "scalerX = MinMaxScaler()\n",
    "scalerY = MinMaxScaler()\n",
    "scalerX.fit(Xall)\n",
    "scalerY.fit(Yall)\n",
    "\n",
    "Xsc = scalerX.transform(Xall)\n",
    "Ysc = scalerY.transform(Yall)"
   ]
  },
  {
   "cell_type": "code",
   "execution_count": 74,
   "id": "8bcef937",
   "metadata": {
    "pycharm": {
     "name": "#%%\n"
    }
   },
   "outputs": [],
   "source": [
    "## Split data into train & test partitions\n",
    "X_train, X_test, y_train, y_test = train_test_split(Xsc, Ysc, test_size=0.33, random_state=seed_num)"
   ]
  },
  {
   "cell_type": "code",
   "execution_count": 75,
   "id": "0534b4d4",
   "metadata": {
    "pycharm": {
     "name": "#%%\n"
    }
   },
   "outputs": [],
   "source": [
    "## instantiate regressors\n",
    "# svm = SVR()\n",
    "\n",
    "# dtree = DecisionTreeRegressor()\n",
    "\n",
    "mlp = MLPRegressor(hidden_layer_sizes=[1024, 512, 64])\n",
    "\n",
    "# rfrst = RandomForestRegressor()\n",
    "\n",
    "# gbr = GradientBoostingRegressor()"
   ]
  },
  {
   "cell_type": "code",
   "execution_count": 76,
   "id": "455ece76",
   "metadata": {
    "pycharm": {
     "name": "#%%\n"
    }
   },
   "outputs": [],
   "source": [
    "## Select performance scores\n",
    "scoring = ['neg_mean_absolute_error', 'neg_mean_absolute_percentage_error']"
   ]
  },
  {
   "cell_type": "code",
   "execution_count": 77,
   "id": "1313eb12",
   "metadata": {
    "pycharm": {
     "name": "#%%\n"
    }
   },
   "outputs": [],
   "source": [
    "## Select hyper-parameters & build model\n",
    "# hparams = {'tol': 0.001, 'max_iter': 20000, 'kernel': 'rbf', 'gamma': 'auto', 'epsilon': 0.01, \n",
    "#           'degree': 2, 'coef0': 0.0, 'C': 10.0}\n",
    "\n",
    "model = mlp"
   ]
  },
  {
   "cell_type": "code",
   "execution_count": 78,
   "id": "2b0c8626",
   "metadata": {
    "pycharm": {
     "name": "#%%\n"
    }
   },
   "outputs": [],
   "source": [
    "## Train model on the train partition, predict on the test partition\n",
    "trained_model = model.fit(X_train, y_train.ravel())\n",
    "predictions = trained_model.predict(X_test)"
   ]
  },
  {
   "cell_type": "code",
   "execution_count": 79,
   "id": "e1ebc724",
   "metadata": {
    "pycharm": {
     "name": "#%%\n"
    }
   },
   "outputs": [],
   "source": [
    "## Compute performance scores on the unseen test partition\n",
    "mae = metrics.mean_absolute_error(y_test.ravel(), predictions)\n",
    "mape = metrics.mean_absolute_percentage_error(y_test.ravel(), predictions)"
   ]
  },
  {
   "cell_type": "code",
   "execution_count": 80,
   "id": "2a2f02ee",
   "metadata": {
    "pycharm": {
     "name": "#%%\n"
    }
   },
   "outputs": [],
   "source": [
    "print(\"We achieved a MAE: %.3f on a test set with standard deviation: %.3f\" % (mae, float(np.std(y_test))))"
   ]
  },
  {
   "cell_type": "code",
   "execution_count": 81,
   "id": "9a9fa11d",
   "metadata": {
    "scrolled": true,
    "pycharm": {
     "name": "#%%\n"
    }
   },
   "outputs": [],
   "source": [
    "## Load Complete Point Cloud to perform inference\n",
    "filename = \"Processed_Sphere_16.0026_75_2_0.6.csv\"\n",
    "filepath = maindir / filename\n",
    "sdf = pd.read_csv(filepath, sep=',', header=0)"
   ]
  },
  {
   "cell_type": "code",
   "execution_count": 82,
   "id": "0c5a537a",
   "metadata": {
    "pycharm": {
     "name": "#%%\n"
    }
   },
   "outputs": [],
   "source": [
    "## Perform inference\n",
    "x = sdf[feature_names].values\n",
    "xsc = scalerX.transform(x)\n",
    "y = sdf[target_variable].values.reshape(-1, 1)\n",
    "ys = scalerY.transform(y)\n",
    "predictions = trained_model.predict(xsc).reshape(-1, 1)\n",
    "predictions = scalerY.inverse_transform(predictions)\n",
    "sdf['predictions'] = predictions"
   ]
  },
  {
   "cell_type": "code",
   "execution_count": 83,
   "id": "d93e8267",
   "metadata": {
    "pycharm": {
     "name": "#%%\n"
    }
   },
   "outputs": [],
   "source": [
    "sdf"
   ]
  },
  {
   "cell_type": "code",
   "execution_count": 84,
   "id": "e72d142a",
   "metadata": {
    "pycharm": {
     "name": "#%%\n"
    }
   },
   "outputs": [],
   "source": [
    "def create_color_mask(row, col='PointDev'):\n",
    "    pointdev = row[col]\n",
    "    if (pointdev > 0.05):\n",
    "        color = 5\n",
    "    elif (pointdev >= 0.04) & (pointdev < 0.05):\n",
    "        color = 4\n",
    "    elif (pointdev >= 0.03) & (pointdev < 0.04):\n",
    "        color = 3\n",
    "    elif (pointdev >= 0.02) & (pointdev < 0.03):\n",
    "        color = 2\n",
    "    elif (pointdev >= 0.01) & (pointdev < 0.02):\n",
    "        color = 1\n",
    "    elif (pointdev > -0.01) & (pointdev < 0.01):\n",
    "        color = 0\n",
    "    elif (pointdev <= -0.01) & (pointdev > -0.02):\n",
    "        color = -1\n",
    "    elif (pointdev <= -0.02) & (pointdev > -0.03):\n",
    "        color = -2\n",
    "    elif (pointdev <= -0.03) & (pointdev > -0.04):\n",
    "        color = -3\n",
    "    elif (pointdev <= -0.04) & (pointdev > -0.05):\n",
    "        color = -4\n",
    "    elif (pointdev <= -0.05):\n",
    "        color = -5\n",
    "        \n",
    "    return color"
   ]
  },
  {
   "cell_type": "code",
   "execution_count": 85,
   "id": "5d76a3da",
   "metadata": {
    "pycharm": {
     "name": "#%%\n"
    }
   },
   "outputs": [],
   "source": [
    "## Map values to colormap, for visualization purposes\n",
    "sdf['color_actual'] = sdf.apply(lambda x: create_color_mask(x, col='PointDev'), axis=1)\n",
    "sdf['color_predicted'] = sdf.apply(lambda x: create_color_mask(x, col='predictions'), axis=1)\n",
    "cmap = cm.coolwarm"
   ]
  },
  {
   "cell_type": "code",
   "execution_count": 86,
   "id": "bd95dca4",
   "metadata": {
    "pycharm": {
     "name": "#%%\n"
    }
   },
   "outputs": [],
   "source": [
    "## Retrieve geometry, diameter & scanning parameters from filename\n",
    "sparams = filename[:-4].split('_')\n",
    "geometry = sparams[1]\n",
    "diameter = float(sparams[2])\n",
    "lateral_density = int(sparams[3])\n",
    "direction_density = int(sparams[4])\n",
    "exposure_time = float(sparams[5])\n",
    "print('Geometry: ', geometry)\n",
    "print('Diameter: ', diameter, ' mm')\n",
    "print('Lateral Density: ', lateral_density)\n",
    "print('Direction Density: ', direction_density)\n",
    "print('Exposure Time: ', exposure_time)"
   ]
  },
  {
   "cell_type": "code",
   "execution_count": 87,
   "id": "fd5c0edc",
   "metadata": {
    "pycharm": {
     "name": "#%%\n"
    }
   },
   "outputs": [],
   "source": [
    "## Create Predicted Point Deviation (error) map and compare to actual values\n",
    "fig, (ax1, ax2) = plt.subplots(ncols=2, figsize=(16, 9))\n",
    "pc = ax1.scatter(sdf.Xnom.values, sdf.Ynom.values, c=sdf.color_predicted.values, norm=colors.CenteredNorm(), s=5, cmap=cmap)\n",
    "# fig.colorbar(pc, ax=ax1)\n",
    "ax1.set_title('Predicted', fontsize=18)\n",
    "\n",
    "pc = ax2.scatter(sdf.Xnom.values, sdf.Ynom.values, c=sdf.color_actual.values, s=5, norm=colors.CenteredNorm(), cmap=cmap)\n",
    "# fig.colorbar(pc, ax=ax2)\n",
    "ax2.set_title('Actual', fontsize=18)\n",
    "title = '{} {}mm, Lateral Density={}, Direction Density={}, Exposure Time={}'.format(\n",
    "    geometry, diameter, lateral_density, direction_density, exposure_time)\n",
    "fig.suptitle(title, fontsize=20)\n",
    "fig.subplots_adjust(right=0.8)\n",
    "cbar_ax = fig.add_axes([0.85, 0.15, 0.05, 0.7])\n",
    "cbar = fig.colorbar(pc, cbar_ax, ticks=np.arange(-5, 6, 1))\n",
    "cbar.ax.set_yticklabels(['<-0.05', '-0.04', '-0.03', '-0.02', '-0.01', '0.0', '0.01', '0.02', '0.03', '0.04', '>0.05'])\n",
    "cbar.set_label('Point Deviations (mm)', fontsize=18)\n",
    "nm = '_'.join(['PointDevMap', filename[:-4]])\n",
    "#     nm = '_'.join(['PointDevMap', name[:-4], 'FaceOn'])\n",
    "nm += '.png'\n",
    "savefile = maindir / nm\n",
    "plt.savefig(savefile, bbox_inches='tight', pad_inches=0.1, format='png')\n",
    "# plt.close('all')\n",
    "plt.show()"
   ]
  },
  {
   "cell_type": "markdown",
   "source": [
    "# Explainability Part\n",
    "\n",
    "We will implement two Feature Effect Methods:\n",
    "\n",
    "- Partial Dependence Plot\n",
    "- Accumulated Local Effects (ALE)"
   ],
   "metadata": {
    "collapsed": false,
    "pycharm": {
     "name": "#%% md\n"
    }
   }
  },
  {
   "cell_type": "code",
   "execution_count": 88,
   "id": "82715fc6",
   "metadata": {
    "pycharm": {
     "name": "#%%\n"
    }
   },
   "outputs": [],
   "source": [
    "import copy\n",
    "from sklearn.inspection import PartialDependenceDisplay\n",
    "import PyALE"
   ]
  },
  {
   "cell_type": "markdown",
   "source": [
    "## Partial Dependence Plot\n",
    "\n",
    "$$PDP(x_s) = \\frac{1}{N} \\sum_{i=1}^N f( x_s, x_c^i )$$\n",
    "\n",
    "where\n",
    "* $x_s$ is the feature of interest\n",
    "* $x_c^i$ are the rest of the features for the $i$-th sample"
   ],
   "metadata": {
    "collapsed": false,
    "pycharm": {
     "name": "#%% md\n"
    }
   }
  },
  {
   "cell_type": "code",
   "execution_count": 89,
   "outputs": [],
   "source": [
    "def pdp_on_single_point(model, training_set, feature, xs):\n",
    "    \"\"\"\n",
    "    Partial Dependence Plot on a single point xs\n",
    "\n",
    "    :param model: scikit model\n",
    "    :param training_set: ndarray of shape (N, D)\n",
    "    :param feature: int, index of the feature to be explained\n",
    "    :param xs: float, point to be explained\n",
    "    :return: ndarray of shape (N,), partial dependence plot at x_s\n",
    "    \"\"\"\n",
    "    # step 1: deepcopy the training set, so that we don't modify the original training set\n",
    "    training_set_1 = copy.deepcopy(training_set)\n",
    "\n",
    "    # step 2: modify the training set, setting the feature of interest to x_s\n",
    "    training_set_1[:, feature] = xs\n",
    "\n",
    "    # step 3: predict on the modified training set\n",
    "    y_1 = model.predict(training_set_1)\n",
    "\n",
    "    # step 4: take the average of the predictions\n",
    "    y_1_mean = y_1.mean()\n",
    "\n",
    "    return y_1_mean\n"
   ],
   "metadata": {
    "collapsed": false,
    "pycharm": {
     "name": "#%%\n"
    }
   }
  },
  {
   "cell_type": "code",
   "execution_count": 90,
   "outputs": [],
   "source": [
    "def pdp(model, training_set, feature, grid_size=100):\n",
    "    \"\"\"\n",
    "    Partial Dependence Plot\n",
    "\n",
    "    :param model: scikit model\n",
    "    :param training_set: ndarray of shape (N, D)\n",
    "    :param feature: int, index of the feature to be explained\n",
    "    :param grid_size: int, number of points to be evaluated\n",
    "    :return: (x, y) tuple, x, y are ndarrays of shape (grid_size,)\n",
    "    \"\"\"\n",
    "    # step 1: get the min and max of the feature of interest\n",
    "    feature_min = training_set[:, feature].min()\n",
    "    feature_max = training_set[:, feature].max()\n",
    "\n",
    "    # step 2: create a grid of points to be evaluated\n",
    "    xs = np.linspace(feature_min, feature_max, grid_size)\n",
    "\n",
    "    # step 3: evaluate the partial dependence plot on each point\n",
    "    ys = [pdp_on_single_point(model, training_set, feature, x) for x in xs]\n",
    "\n",
    "    return xs, ys"
   ],
   "metadata": {
    "collapsed": false,
    "pycharm": {
     "name": "#%%\n"
    }
   }
  },
  {
   "cell_type": "code",
   "execution_count": 91,
   "outputs": [],
   "source": [
    "# feature to be explained is the 11th feature, oriZ\n",
    "feat = 1\n",
    "xs, ys = pdp(trained_model, X_train, feat, grid_size=100)"
   ],
   "metadata": {
    "collapsed": false,
    "pycharm": {
     "name": "#%%\n"
    }
   }
  },
  {
   "cell_type": "code",
   "execution_count": 92,
   "id": "9b7bac9a",
   "metadata": {
    "pycharm": {
     "name": "#%%\n"
    }
   },
   "outputs": [],
   "source": [
    "plt.figure()\n",
    "plt.plot(xs, ys)\n",
    "plt.xlabel(feature_names[feat])\n",
    "plt.ylabel('Predicted Point Deviation')\n",
    "plt.show()"
   ]
  },
  {
   "cell_type": "code",
   "execution_count": 97,
   "outputs": [],
   "source": [
    "# PartialDependenceDisplay.from_estimator(trained_model, X_train, [feat])"
   ],
   "metadata": {
    "collapsed": false,
    "pycharm": {
     "name": "#%%\n"
    }
   }
  },
  {
   "cell_type": "markdown",
   "source": [
    "## Accumulated Local Effects\n",
    "\n",
    "$$ALE(x_s) = \\sum_1^K  \\frac{1}{N} \\sum_{i \\in b_k }^N f(z_k, x_c^i) - f(z_{k-1}, x_c^i) )$$\n",
    "\n",
    "where $b_k$ is the set of points in the k-th bin, i.e., $b_k = \\{ \\mathbf{x}^i : x_s^i \\in [z_{k-1}, z_k] \\}$"
   ],
   "metadata": {
    "collapsed": false,
    "pycharm": {
     "name": "#%% md\n"
    }
   }
  },
  {
   "cell_type": "code",
   "execution_count": 98,
   "outputs": [],
   "source": [
    "def ale(model, training_set, feature, num_bins):\n",
    "    \"\"\"\n",
    "    Accumulated Local Effects\n",
    "\n",
    "    \"\"\"\n",
    "    # step 1: get the min and max of the feature of interest\n",
    "    feature_min = training_set[:, feature].min()\n",
    "    feature_max = training_set[:, feature].max()\n",
    "\n",
    "    # step 2: split the feature into num_bins bins\n",
    "    bins = np.linspace(feature_min, feature_max, num_bins + 1)\n",
    "\n",
    "    # for each bin, compute the bin effect\n",
    "    bin_effect = []\n",
    "    for i in range(num_bins):\n",
    "        # create two clones of the original dataset\n",
    "        training_set_1 = copy.deepcopy(training_set)\n",
    "        training_set_2 = copy.deepcopy(training_set)\n",
    "\n",
    "        # isolate points that belong to the bin\n",
    "        mask = (training_set[:, feature] >= bins[i]) & (training_set[:, feature] < bins[i + 1])\n",
    "        training_set_1 = training_set_1[mask]\n",
    "        training_set_2 = training_set_2[mask]\n",
    "\n",
    "        # set the feature of interest to the lower bound of the bin\n",
    "        training_set_1[:, feature] = bins[i]\n",
    "\n",
    "        # set the feature of interest to the upper bound of the bin\n",
    "        training_set_2[:, feature] = bins[i + 1]\n",
    "\n",
    "        # predict on the two modified datasets\n",
    "        y_1 = model.predict(training_set_1)\n",
    "        y_2 = model.predict(training_set_2)\n",
    "\n",
    "        # compute the bin effect\n",
    "        bin_effect.append((y_2 - y_1).mean())\n",
    "\n",
    "    return bins, bin_effect"
   ],
   "metadata": {
    "collapsed": false,
    "pycharm": {
     "name": "#%%\n"
    }
   }
  },
  {
   "cell_type": "code",
   "execution_count": 99,
   "outputs": [],
   "source": [
    "def plot_ale(bins, bin_effect):\n",
    "    \"\"\"\n",
    "    Plot the accumulated local effects\n",
    "\n",
    "    \"\"\"\n",
    "    # step 1: compute the bin centers\n",
    "    bin_centers = (bins[:-1] + bins[1:]) / 2\n",
    "\n",
    "    # step 2: plot the bin effect\n",
    "    plt.figure()\n",
    "    plt.bar(bin_centers, bin_effect, width=bins[1] - bins[0])\n",
    "    plt.xlabel(feature_names[0])\n",
    "    plt.ylabel('Bin Effect')\n",
    "    plt.show()\n",
    "\n",
    "    # step 3: plot the accumulated local effects\n",
    "    plt.figure()\n",
    "    plt.plot(bin_centers, np.cumsum(bin_effect))\n",
    "    plt.xlabel(feature_names[0])\n",
    "    plt.ylabel('Accumulated Local Effects')\n",
    "    plt.show()"
   ],
   "metadata": {
    "collapsed": false,
    "pycharm": {
     "name": "#%%\n"
    }
   }
  },
  {
   "cell_type": "code",
   "execution_count": 102,
   "outputs": [],
   "source": [
    "bins, bin_effect = ale(trained_model, X_train, feat, num_bins=50)\n",
    "plot_ale(bins, bin_effect)"
   ],
   "metadata": {
    "collapsed": false,
    "pycharm": {
     "name": "#%%\n"
    }
   }
  },
  {
   "cell_type": "code",
   "execution_count": 64,
   "outputs": [],
   "source": [],
   "metadata": {
    "collapsed": false,
    "pycharm": {
     "name": "#%%\n"
    }
   }
  },
  {
   "cell_type": "code",
   "execution_count": 101,
   "outputs": [],
   "source": [
    "# X_train_df = pd.DataFrame(X_train, columns=feature_names)\n",
    "# feature_name = feature_names[feat]\n",
    "# _ = PyALE.ale(X=X_train_df, model=trained_model, feature=[feature_name], grid_size=50, include_CI=False)"
   ],
   "metadata": {
    "collapsed": false,
    "pycharm": {
     "name": "#%%\n"
    }
   }
  },
  {
   "cell_type": "code",
   "execution_count": 106,
   "id": "1c2e9d3b",
   "metadata": {
    "pycharm": {
     "name": "#%%\n"
    }
   },
   "outputs": [
    {
     "data": {
      "text/plain": [
       "0.034767778176490585"
      ]
     },
     "execution_count": 106,
     "metadata": {},
     "output_type": "execute_result"
    }
   ],
   "source": []
  },
  {
   "cell_type": "code",
   "execution_count": null,
   "id": "b585c7a4",
   "metadata": {
    "pycharm": {
     "name": "#%%\n"
    }
   },
   "outputs": [],
   "source": []
  }
 ],
 "metadata": {
  "kernelspec": {
   "display_name": "Python 3 (ipykernel)",
   "language": "python",
   "name": "python3"
  },
  "language_info": {
   "codemirror_mode": {
    "name": "ipython",
    "version": 3
   },
   "file_extension": ".py",
   "mimetype": "text/x-python",
   "name": "python",
   "nbconvert_exporter": "python",
   "pygments_lexer": "ipython3",
   "version": "3.9.10"
  }
 },
 "nbformat": 4,
 "nbformat_minor": 5
}