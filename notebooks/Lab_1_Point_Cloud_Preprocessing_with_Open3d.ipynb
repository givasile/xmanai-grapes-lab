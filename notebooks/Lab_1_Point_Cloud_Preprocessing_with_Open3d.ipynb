{
 "cells": [
  {
   "cell_type": "markdown",
   "id": "a1325053",
   "metadata": {},
   "source": [
    "This Lab is about preprocessing raw Point Clouds with the use of Open3d Python library. Open3d implements several useful functions that facilitate Point Cloud processing and analysis, including downsampling, outlier removal and the estimation of normal vectors at each point. Let's jump in!"
   ]
  },
  {
   "cell_type": "code",
   "execution_count": 1,
   "id": "79bc3a3f",
   "metadata": {},
   "outputs": [
    {
     "name": "stdout",
     "output_type": "stream",
     "text": [
      "Jupyter environment detected. Enabling Open3D WebVisualizer.\n",
      "[Open3D INFO] WebRTC GUI backend enabled.\n",
      "[Open3D INFO] WebRTCWindowSystem: HTTP handshake server disabled.\n"
     ]
    }
   ],
   "source": [
    "## import the necessary libraries\n",
    "import numpy as np\n",
    "import pandas as pd\n",
    "import open3d as o3d\n",
    "import os\n",
    "import gc\n",
    "from pathlib import Path"
   ]
  },
  {
   "cell_type": "code",
   "execution_count": 2,
   "id": "e9131887",
   "metadata": {},
   "outputs": [],
   "source": [
    "import matplotlib.pyplot as plt"
   ]
  },
  {
   "cell_type": "code",
   "execution_count": 3,
   "id": "05331460",
   "metadata": {},
   "outputs": [],
   "source": [
    "maindir = Path.cwd() / \"tutorial_data\"\n",
    "filename = \"Sphere_16_75_2_0.6.txt\"\n",
    "path2file = maindir / filename"
   ]
  },
  {
   "cell_type": "code",
   "execution_count": 4,
   "id": "4d4a7cae",
   "metadata": {
    "scrolled": false
   },
   "outputs": [
    {
     "data": {
      "text/html": [
       "<div>\n",
       "<style scoped>\n",
       "    .dataframe tbody tr th:only-of-type {\n",
       "        vertical-align: middle;\n",
       "    }\n",
       "\n",
       "    .dataframe tbody tr th {\n",
       "        vertical-align: top;\n",
       "    }\n",
       "\n",
       "    .dataframe thead th {\n",
       "        text-align: right;\n",
       "    }\n",
       "</style>\n",
       "<table border=\"1\" class=\"dataframe\">\n",
       "  <thead>\n",
       "    <tr style=\"text-align: right;\">\n",
       "      <th></th>\n",
       "      <th>X</th>\n",
       "      <th>Y</th>\n",
       "      <th>Z</th>\n",
       "      <th>I</th>\n",
       "      <th>J</th>\n",
       "      <th>K</th>\n",
       "    </tr>\n",
       "  </thead>\n",
       "  <tbody>\n",
       "    <tr>\n",
       "      <th>0</th>\n",
       "      <td>-5.59362</td>\n",
       "      <td>-4.17652</td>\n",
       "      <td>3.82781</td>\n",
       "      <td>0.000081</td>\n",
       "      <td>0.001229</td>\n",
       "      <td>0.999999</td>\n",
       "    </tr>\n",
       "    <tr>\n",
       "      <th>1</th>\n",
       "      <td>-5.63422</td>\n",
       "      <td>-4.17642</td>\n",
       "      <td>3.82771</td>\n",
       "      <td>0.000081</td>\n",
       "      <td>0.001229</td>\n",
       "      <td>0.999999</td>\n",
       "    </tr>\n",
       "    <tr>\n",
       "      <th>2</th>\n",
       "      <td>-4.84902</td>\n",
       "      <td>-4.41662</td>\n",
       "      <td>4.55351</td>\n",
       "      <td>0.000081</td>\n",
       "      <td>0.001229</td>\n",
       "      <td>0.999999</td>\n",
       "    </tr>\n",
       "    <tr>\n",
       "      <th>3</th>\n",
       "      <td>-4.66562</td>\n",
       "      <td>-4.95552</td>\n",
       "      <td>4.12101</td>\n",
       "      <td>0.000081</td>\n",
       "      <td>0.001229</td>\n",
       "      <td>0.999999</td>\n",
       "    </tr>\n",
       "    <tr>\n",
       "      <th>4</th>\n",
       "      <td>-4.70672</td>\n",
       "      <td>-4.95542</td>\n",
       "      <td>4.12081</td>\n",
       "      <td>0.000081</td>\n",
       "      <td>0.001229</td>\n",
       "      <td>0.999999</td>\n",
       "    </tr>\n",
       "  </tbody>\n",
       "</table>\n",
       "</div>"
      ],
      "text/plain": [
       "         X        Y        Z         I         J         K\n",
       "0 -5.59362 -4.17652  3.82781  0.000081  0.001229  0.999999\n",
       "1 -5.63422 -4.17642  3.82771  0.000081  0.001229  0.999999\n",
       "2 -4.84902 -4.41662  4.55351  0.000081  0.001229  0.999999\n",
       "3 -4.66562 -4.95552  4.12101  0.000081  0.001229  0.999999\n",
       "4 -4.70672 -4.95542  4.12081  0.000081  0.001229  0.999999"
      ]
     },
     "execution_count": 4,
     "metadata": {},
     "output_type": "execute_result"
    }
   ],
   "source": [
    "colnames = ['X', 'Y', 'Z', 'I', 'J', 'K']\n",
    "ddf = pd.read_csv(path2file, names=colnames, index_col=False, sep=' ')\n",
    "ddf.head()"
   ]
  },
  {
   "cell_type": "code",
   "execution_count": 5,
   "id": "5c80f2f1",
   "metadata": {},
   "outputs": [
    {
     "name": "stdout",
     "output_type": "stream",
     "text": [
      "PointCloud with 68470 points.\n",
      "[[-5.59362 -4.17652  3.82781]\n",
      " [-5.63422 -4.17642  3.82771]\n",
      " [-4.84902 -4.41662  4.55351]\n",
      " ...\n",
      " [ 4.80738  5.34298  3.40841]\n",
      " [ 4.89038  5.34269  3.31971]\n",
      " [ 4.84858  5.34288  3.39041]]\n"
     ]
    }
   ],
   "source": [
    "## Load Point Cloud and render it\n",
    "pcd = o3d.io.read_point_cloud(str(path2file), format='xyz')\n",
    "print(pcd)\n",
    "print(np.asarray(pcd.points))"
   ]
  },
  {
   "cell_type": "code",
   "execution_count": 6,
   "id": "84e4fc99",
   "metadata": {
    "scrolled": true
   },
   "outputs": [
    {
     "name": "stdout",
     "output_type": "stream",
     "text": [
      "PointCloud with 68470 points.\n",
      "[[-5.59362 -4.17652  3.82781]\n",
      " [-5.63422 -4.17642  3.82771]\n",
      " [-4.84902 -4.41662  4.55351]\n",
      " ...\n",
      " [ 4.80738  5.34298  3.40841]\n",
      " [ 4.89038  5.34269  3.31971]\n",
      " [ 4.84858  5.34288  3.39041]]\n"
     ]
    }
   ],
   "source": [
    "## Load Point Cloud and render it, retrieve laser orientation as the \"normals\" n in \"xyzn\"\n",
    "pcd = o3d.io.read_point_cloud(str(path2file), format='xyzn')\n",
    "print(pcd)\n",
    "print(np.asarray(pcd.points))"
   ]
  },
  {
   "cell_type": "code",
   "execution_count": 7,
   "id": "86be71c3",
   "metadata": {},
   "outputs": [
    {
     "data": {
      "text/plain": [
       "array([[8.14835e-05, 1.22949e-03, 9.99999e-01],\n",
       "       [8.14835e-05, 1.22949e-03, 9.99999e-01],\n",
       "       [8.14835e-05, 1.22949e-03, 9.99999e-01],\n",
       "       ...,\n",
       "       [8.14835e-05, 1.22949e-03, 9.99999e-01],\n",
       "       [8.14835e-05, 1.22949e-03, 9.99999e-01],\n",
       "       [8.14835e-05, 1.22949e-03, 9.99999e-01]])"
      ]
     },
     "execution_count": 7,
     "metadata": {},
     "output_type": "execute_result"
    }
   ],
   "source": [
    "np.asarray(pcd.normals)"
   ]
  },
  {
   "cell_type": "code",
   "execution_count": 8,
   "id": "bf81e557",
   "metadata": {},
   "outputs": [
    {
     "name": "stdout",
     "output_type": "stream",
     "text": [
      "[[8.14835e-05 1.22949e-03 9.99999e-01]\n",
      " [8.14835e-05 1.22949e-03 9.99999e-01]\n",
      " [8.14835e-05 1.22949e-03 9.99999e-01]\n",
      " ...\n",
      " [8.14835e-05 1.22949e-03 9.99999e-01]\n",
      " [8.14835e-05 1.22949e-03 9.99999e-01]\n",
      " [8.14835e-05 1.22949e-03 9.99999e-01]]\n"
     ]
    }
   ],
   "source": [
    "## retrieve laser orientation as the \"normals\" n in \"xyzn\"\n",
    "laser_ori = np.asarray(pcd.normals)\n",
    "print(laser_ori)"
   ]
  },
  {
   "cell_type": "code",
   "execution_count": 9,
   "id": "fa5bea20",
   "metadata": {},
   "outputs": [],
   "source": [
    "## Visualize the Point Cloud\n",
    "o3d.visualization.draw_geometries([pcd],\n",
    "                                 window_name='Sphere 16mm Raw Point Cloud',\n",
    "                                 width=1920,\n",
    "                                 height=1080)"
   ]
  },
  {
   "cell_type": "code",
   "execution_count": 10,
   "id": "c40e86ff",
   "metadata": {},
   "outputs": [
    {
     "name": "stdout",
     "output_type": "stream",
     "text": [
      "Downsample the point cloud with a voxel of 0.05\n"
     ]
    }
   ],
   "source": [
    "## Downsampling with voxelization\n",
    "print(\"Downsample the point cloud with a voxel of 0.05\")\n",
    "downpcd=pcd.voxel_down_sample(voxel_size=0.05)\n",
    "o3d.visualization.draw_geometries([downpcd],\n",
    "                                 window_name='Downsampled sphere, voxel=0.05',\n",
    "                                 width=1920,\n",
    "                                 height=1080)"
   ]
  },
  {
   "cell_type": "code",
   "execution_count": 11,
   "id": "e0093a83",
   "metadata": {},
   "outputs": [
    {
     "name": "stdout",
     "output_type": "stream",
     "text": [
      "Downsample the point cloud with a voxel of 0.08\n"
     ]
    }
   ],
   "source": [
    "## Downsampling with voxelization, larger voxel\n",
    "print(\"Downsample the point cloud with a voxel of 0.08\")\n",
    "downpcd=pcd.voxel_down_sample(voxel_size=0.08)\n",
    "o3d.visualization.draw_geometries([downpcd],\n",
    "                                 window_name='Downsampled sphere, voxel=0.08',\n",
    "                                 width=1920,\n",
    "                                 height=1080)"
   ]
  },
  {
   "cell_type": "code",
   "execution_count": 12,
   "id": "2c89f89f",
   "metadata": {},
   "outputs": [
    {
     "name": "stdout",
     "output_type": "stream",
     "text": [
      "Every 5th points are selected\n"
     ]
    }
   ],
   "source": [
    "## Uniform downsampling, every k points\n",
    "print(\"Every 5th points are selected\")\n",
    "uni_down_pcd=pcd.uniform_down_sample(every_k_points=5)\n",
    "o3d.visualization.draw_geometries([uni_down_pcd],\n",
    "                                 window_name='Uniformly downsampled Sphere, Every 5th points are selected',\n",
    "                                 width=1920,\n",
    "                                 height=1080)"
   ]
  },
  {
   "cell_type": "code",
   "execution_count": 13,
   "id": "48bbfe8a",
   "metadata": {},
   "outputs": [],
   "source": [
    "# ## Radius outlier removal: Removes points that have neighbors less than nb_points in a sphere of a given radius\n",
    "# print(\"Radius outlier removal\")\n",
    "# cloud,ind=pcd.remove_radius_outlier(nb_points=20,radius=0.6)\n",
    "# inlier_cloud=cloud.select_by_index(ind)\n",
    "# outlier_cloud=cloud.select_by_index(ind,invert=True)\n",
    "# print(\"Showing outliers(red) and inliers(gray):\")\n",
    "# outlier_cloud.paint_uniform_color([1,0,0])\n",
    "# inlier_cloud.paint_uniform_color([0.8,0.8,0.8])\n",
    "# o3d.visualization.draw_geometries([inlier_cloud,outlier_cloud],\n",
    "#                                   window_name='Uniformly downsampled Sphere, Every 5th points are selected',\n",
    "#                                   width=1920,\n",
    "#                                   height=1080,\n",
    "#                              zoom=0.3210,\n",
    "#                              front=[0.4, 0.4, 0.7],\n",
    "#                              lookat=[0, 0,-0.8795],\n",
    "#                              up=[0.01, 0.01, 0.2024])"
   ]
  },
  {
   "cell_type": "code",
   "execution_count": null,
   "id": "810a3140",
   "metadata": {},
   "outputs": [],
   "source": [
    "## Radius outlier removal: Removes points that have neighbors less than nb_points in a sphere of a given radius\n",
    "print(\"Radius outlier removal\")\n",
    "cloud,ind=pcd.remove_radius_outlier(nb_points=20,radius=0.5)\n",
    "inlier_cloud=cloud.select_by_index(ind)\n",
    "outlier_cloud=cloud.select_by_index(ind,invert=True)\n",
    "print(\"Showing outliers(red) and inliers(gray):\")\n",
    "outlier_cloud.paint_uniform_color([1,0,0])\n",
    "inlier_cloud.paint_uniform_color([0.8,0.8,0.8])\n",
    "o3d.visualization.draw_geometries([inlier_cloud,outlier_cloud],\n",
    "                                  window_name='Radius outlier removal, Showing outliers(red) and inliers(gray)',\n",
    "                                  width=1920,\n",
    "                                  height=1080)"
   ]
  },
  {
   "cell_type": "code",
   "execution_count": 1,
   "id": "ab829bf0",
   "metadata": {},
   "outputs": [
    {
     "name": "stdout",
     "output_type": "stream",
     "text": [
      "Statistical outlier removal\n"
     ]
    },
    {
     "ename": "NameError",
     "evalue": "name 'pcd' is not defined",
     "output_type": "error",
     "traceback": [
      "\u001b[0;31m---------------------------------------------------------------------------\u001b[0m",
      "\u001b[0;31mNameError\u001b[0m                                 Traceback (most recent call last)",
      "Cell \u001b[0;32mIn[1], line 3\u001b[0m\n\u001b[1;32m      1\u001b[0m \u001b[38;5;66;03m## Statistical outlier removal: Removes points that are further away from their neighbors in average\u001b[39;00m\n\u001b[1;32m      2\u001b[0m \u001b[38;5;28mprint\u001b[39m(\u001b[38;5;124m\"\u001b[39m\u001b[38;5;124mStatistical outlier removal\u001b[39m\u001b[38;5;124m\"\u001b[39m)\n\u001b[0;32m----> 3\u001b[0m cloud,ind\u001b[38;5;241m=\u001b[39m\u001b[43mpcd\u001b[49m\u001b[38;5;241m.\u001b[39mremove_statistical_outlier(nb_neighbors\u001b[38;5;241m=\u001b[39m\u001b[38;5;241m60\u001b[39m,std_ratio\u001b[38;5;241m=\u001b[39m\u001b[38;5;241m1.0\u001b[39m)\n\u001b[1;32m      4\u001b[0m inlier_cloud\u001b[38;5;241m=\u001b[39mpcd\u001b[38;5;241m.\u001b[39mselect_by_index(ind)\n\u001b[1;32m      5\u001b[0m outlier_cloud\u001b[38;5;241m=\u001b[39mpcd\u001b[38;5;241m.\u001b[39mselect_by_index(ind,invert\u001b[38;5;241m=\u001b[39m\u001b[38;5;28;01mTrue\u001b[39;00m)\n",
      "\u001b[0;31mNameError\u001b[0m: name 'pcd' is not defined"
     ]
    }
   ],
   "source": [
    "## Statistical outlier removal: Removes points that are further away from their neighbors in average\n",
    "print(\"Statistical outlier removal\")\n",
    "cloud,ind=pcd.remove_statistical_outlier(nb_neighbors=60,std_ratio=1.0)\n",
    "inlier_cloud=pcd.select_by_index(ind)\n",
    "outlier_cloud=pcd.select_by_index(ind,invert=True)\n",
    "print(\"Showing outliers(red) and inliers(gray):\")\n",
    "outlier_cloud.paint_uniform_color([1,0,0])\n",
    "inlier_cloud.paint_uniform_color([0.8,0.8,0.8])\n",
    "o3d.visualization.draw_geometries([inlier_cloud,outlier_cloud],\n",
    "                                  window_name='Statistical outlier removal, Showing outliers(red) and inliers(gray)',\n",
    "                                  width=1920,\n",
    "                                  height=1080)"
   ]
  },
  {
   "cell_type": "code",
   "execution_count": null,
   "id": "0619786f",
   "metadata": {},
   "outputs": [],
   "source": [
    "## Compare raw to filtered Point Cloud size\n",
    "print(pcd)\n",
    "print(inlier_cloud)"
   ]
  },
  {
   "cell_type": "code",
   "execution_count": null,
   "id": "7fbe4892",
   "metadata": {},
   "outputs": [],
   "source": [
    "## Random downsampling, Sampling ratio: the ratio of number of selected points to total number of points[0-1]\n",
    "print(\"Random downsampling\")\n",
    "random_down_pcd=inlier_cloud.random_down_sample(sampling_ratio = 0.2)\n",
    "random_down_pcd.paint_uniform_color([0, 1, 0])\n",
    "o3d.visualization.draw_geometries([random_down_pcd],\n",
    "                                 window_name='Randomly downsampled Sphere with sampling ratio = 0.2',\n",
    "                                 width=1920,\n",
    "                                 height=1080)"
   ]
  },
  {
   "cell_type": "code",
   "execution_count": null,
   "id": "1e9a35b7",
   "metadata": {},
   "outputs": [],
   "source": [
    "## Compare filtered to downsampled Point Cloud size\n",
    "print(inlier_cloud)\n",
    "print(random_down_pcd)"
   ]
  },
  {
   "cell_type": "code",
   "execution_count": null,
   "id": "a47f540d",
   "metadata": {},
   "outputs": [],
   "source": [
    "## Recompute the normals of the raw Point Cloud\n",
    "inlier_cloud.estimate_normals(search_param=o3d.geometry.KDTreeSearchParamHybrid(radius=0.6,max_nn=20 ))\n",
    "frame = o3d.geometry.TriangleMesh.create_coordinate_frame(size=1.0, origin=random_down_pcd.get_center())\n",
    "o3d.visualization.draw_geometries([inlier_cloud, frame],\n",
    "                                 window_name='Recompute the normals of the filtered & downsampled point cloud',\n",
    "                                 width=1920,\n",
    "                                 height=1080,\n",
    "                                 point_show_normal=True)"
   ]
  },
  {
   "cell_type": "code",
   "execution_count": null,
   "id": "a8fb4831",
   "metadata": {},
   "outputs": [],
   "source": [
    "## Ensure normal vectors are consistently aligned\n",
    "inlier_cloud.orient_normals_consistent_tangent_plane(100)\n",
    "o3d.visualization.draw_geometries([inlier_cloud, frame],\n",
    "                                 window_name='Recompute the normals of the filtered & downsampled point cloud',\n",
    "                                 width=1920,\n",
    "                                 height=1080,\n",
    "                                 point_show_normal=True)"
   ]
  },
  {
   "cell_type": "code",
   "execution_count": null,
   "id": "18895c8d",
   "metadata": {},
   "outputs": [],
   "source": [
    "## Recompute the normals of the downsampled Point Cloud\n",
    "random_down_pcd.estimate_normals(search_param=o3d.geometry.KDTreeSearchParamHybrid(radius=0.8,max_nn=100 ))\n",
    "## Ensure normal vectors are consistently aligned\n",
    "random_down_pcd.orient_normals_consistent_tangent_plane(100)\n",
    "frame = o3d.geometry.TriangleMesh.create_coordinate_frame(size=1.0, origin=[0, 0, 0])\n",
    "o3d.visualization.draw_geometries([random_down_pcd, frame],\n",
    "                                 window_name='Recompute the normals of the filtered & downsampled point cloud',\n",
    "                                 width=1920,\n",
    "                                 height=1080,\n",
    "                                 point_show_normal=True)"
   ]
  },
  {
   "cell_type": "code",
   "execution_count": null,
   "id": "fec6e554",
   "metadata": {},
   "outputs": [],
   "source": [
    "## Retrieve number of points in the final Point Cloud & Create data array for processed Point Cloud\n",
    "point_num = len(random_down_pcd.points)\n",
    "points_normals_laser = np.concatenate((\n",
    "                        np.asarray(random_down_pcd.points), np.asarray(random_down_pcd.normals), laser_ori[:point_num]), axis=1)\n",
    "print(points_normals_laser.shape)"
   ]
  },
  {
   "cell_type": "code",
   "execution_count": null,
   "id": "11bbc924",
   "metadata": {
    "scrolled": true
   },
   "outputs": [],
   "source": [
    "## Create Dataframe for processed Point Cloud\n",
    "colnames = ['X', 'Y', 'Z', 'Nx', 'Ny', 'Nz', 'I', 'J', 'K']\n",
    "df = pd.DataFrame(points_normals_laser, columns=colnames)\n",
    "df"
   ]
  },
  {
   "cell_type": "code",
   "execution_count": null,
   "id": "eded6381",
   "metadata": {},
   "outputs": [],
   "source": [
    "## Use laser orientation & the computed normal vectors for feature extraction: \n",
    "## Calculate the Incidence angle of light on the surface at each point\n",
    "def cosine_incidence(i1, j1, k1, i2, j2, k2):\n",
    "    n1 = np.sqrt(i1**2 + j1**2 + k1**2)\n",
    "    n2 = np.sqrt(i2**2 + j2**2 + k2**2)\n",
    "    dot = np.dot([i1, j1, k1], [i2, j2, k2])\n",
    "    cos = dot / (n1*n2)\n",
    "    return np.arccos(cos)\n",
    "\n",
    "nvec_cos = np.vectorize(cosine_incidence)"
   ]
  },
  {
   "cell_type": "code",
   "execution_count": null,
   "id": "390e53e5",
   "metadata": {
    "scrolled": true
   },
   "outputs": [],
   "source": [
    "## Use laser orientation & the computed normal vectors for feature extraction: \n",
    "## Calculate the Incidence angle of light on the surface at each point (in radians)\n",
    "df['IncAngle'] = nvec_cos(df.Nx, df.Ny, df.Nz, df.I, df.J, df.K)\n",
    "df"
   ]
  },
  {
   "cell_type": "code",
   "execution_count": null,
   "id": "1c75f324",
   "metadata": {},
   "outputs": [],
   "source": [
    "## Retrieve geometry, diameter & scanning parameters from filename\n",
    "sparams = filename[:-4].split('_')\n",
    "geometry = sparams[0]\n",
    "diameter = float(sparams[1])\n",
    "lateral_density = int(sparams[2])\n",
    "direction_density = int(sparams[3])\n",
    "exposure_time = float(sparams[4])\n",
    "print('Geometry: ', geometry)\n",
    "print('Diameter: ', diameter, ' mm')\n",
    "print('Lateral Density: ', lateral_density)\n",
    "print('Direction Density: ', direction_density)\n",
    "print('Exposure Time: ', exposure_time)"
   ]
  },
  {
   "cell_type": "code",
   "execution_count": null,
   "id": "30636d9c",
   "metadata": {
    "scrolled": true
   },
   "outputs": [],
   "source": [
    "## Insert scanning parameters & nominal radius in data array\n",
    "df['LateralDensity'] = lateral_density\n",
    "df['DirectionDensity'] = direction_density\n",
    "df['ExposureTime'] = exposure_time\n",
    "df['Rnom'] = diameter/2\n",
    "df"
   ]
  },
  {
   "cell_type": "code",
   "execution_count": null,
   "id": "a2d2cf30",
   "metadata": {},
   "outputs": [],
   "source": [
    "## Calculate radial point deviations from nominal surface: this is the target variable\n",
    "def calculate_radial_point_dev(x, y, z, radius):\n",
    "    r = np.sqrt(x**2 + y**2 + z**2)\n",
    "    return float(r - radius)\n",
    "\n",
    "nvec_dev = np.vectorize(calculate_radial_point_dev)\n",
    "\n",
    "df['PointDev'] = nvec_dev(df.X, df.Y, df.Z, df.Rnom)\n",
    "df"
   ]
  },
  {
   "cell_type": "code",
   "execution_count": null,
   "id": "c6fdeb2a",
   "metadata": {},
   "outputs": [],
   "source": [
    "## Save processed Point Cloud in .csv tabular format: data injestible by ML models!\n",
    "savefile = filename[:-4]\n",
    "savefile += \".csv\"\n",
    "savepath = maindir / savefile\n",
    "df.to_csv(savepath, sep=',', header=True, index=False)"
   ]
  },
  {
   "cell_type": "code",
   "execution_count": null,
   "id": "d349c4b2",
   "metadata": {},
   "outputs": [],
   "source": [
    "del df\n",
    "gc.collect()"
   ]
  }
 ],
 "metadata": {
  "kernelspec": {
   "display_name": "Python 3 (ipykernel)",
   "language": "python",
   "name": "python3"
  },
  "language_info": {
   "codemirror_mode": {
    "name": "ipython",
    "version": 3
   },
   "file_extension": ".py",
   "mimetype": "text/x-python",
   "name": "python",
   "nbconvert_exporter": "python",
   "pygments_lexer": "ipython3",
   "version": "3.9.10"
  }
 },
 "nbformat": 4,
 "nbformat_minor": 5
}
