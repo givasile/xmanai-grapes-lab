{
 "cells": [
  {
   "cell_type": "markdown",
   "id": "a1325053",
   "metadata": {
    "pycharm": {
     "name": "#%% md\n"
    }
   },
   "source": [
    "This Lab is about preprocessing raw Point Clouds with the use of Open3d Python library. Open3d implements several useful functions that facilitate Point Cloud processing and analysis, including downsampling, outlier removal and the estimation of normal vectors at each point. Let's jump in!"
   ]
  },
  {
   "cell_type": "markdown",
   "id": "2691a813",
   "metadata": {
    "pycharm": {
     "name": "#%% md\n"
    }
   },
   "source": [
    "First, we import the necessary libraries"
   ]
  },
  {
   "cell_type": "code",
   "execution_count": null,
   "id": "79bc3a3f",
   "metadata": {
    "pycharm": {
     "name": "#%%\n"
    }
   },
   "outputs": [],
   "source": [
    "import numpy as np\n",
    "import pandas as pd\n",
    "import open3d as o3d\n",
    "import os\n",
    "import gc\n",
    "from pathlib import Path"
   ]
  },
  {
   "cell_type": "markdown",
   "id": "e23127a2",
   "metadata": {
    "pycharm": {
     "name": "#%% md\n"
    }
   },
   "source": [
    "Specify the working directory and the path to a raw Point Cloud file"
   ]
  },
  {
   "cell_type": "code",
   "execution_count": null,
   "id": "05331460",
   "metadata": {
    "pycharm": {
     "name": "#%%\n"
    }
   },
   "outputs": [],
   "source": [
    "maindir = Path.cwd() / \"tutorial_data\"\n",
    "filename = \"Sphere_16_75_2_0.6.txt\"\n",
    "path2file = maindir / filename"
   ]
  },
  {
   "cell_type": "markdown",
   "id": "09bc81f5",
   "metadata": {
    "pycharm": {
     "name": "#%% md\n"
    }
   },
   "source": [
    "Let's read the file into a pandas Dataframe first, to have a look at the data. In our case, raw Point Cloud files comprise six columns: three spatial coordinates X, Y, Z for each point, plus the three components I, J, K of the laser orientation vector. "
   ]
  },
  {
   "cell_type": "code",
   "execution_count": null,
   "id": "4d4a7cae",
   "metadata": {
    "scrolled": false,
    "pycharm": {
     "name": "#%%\n"
    }
   },
   "outputs": [],
   "source": [
    "colnames = ['X', 'Y', 'Z', 'I', 'J', 'K']\n",
    "ddf = pd.read_csv(path2file, names=colnames, index_col=False, sep=' ')\n",
    "ddf"
   ]
  },
  {
   "cell_type": "code",
   "execution_count": null,
   "id": "ba3aa5cb",
   "metadata": {
    "scrolled": true,
    "pycharm": {
     "name": "#%%\n"
    }
   },
   "outputs": [],
   "source": [
    "del ddf\n",
    "gc.collect()"
   ]
  },
  {
   "cell_type": "markdown",
   "id": "7ee99738",
   "metadata": {
    "pycharm": {
     "name": "#%% md\n"
    }
   },
   "source": [
    "Now let's load the Point Cloud and render it using the open3d library. "
   ]
  },
  {
   "cell_type": "code",
   "execution_count": null,
   "id": "5c80f2f1",
   "metadata": {
    "scrolled": true,
    "pycharm": {
     "name": "#%%\n"
    }
   },
   "outputs": [],
   "source": [
    "pcd = o3d.io.read_point_cloud(str(path2file), format='xyz')\n",
    "print(pcd)\n",
    "print(np.asarray(pcd.points))"
   ]
  },
  {
   "cell_type": "markdown",
   "id": "e4203168",
   "metadata": {
    "pycharm": {
     "name": "#%% md\n"
    }
   },
   "source": [
    "A better option is to load the Point Cloud using format=\"xyzn\". \"n\" stands for the normal vector at each point and expects three extra columns, for each of the vector components. A total of six columns is therefore expected when format is set to \"xyzn\". "
   ]
  },
  {
   "cell_type": "code",
   "execution_count": null,
   "id": "84e4fc99",
   "metadata": {
    "scrolled": true,
    "pycharm": {
     "name": "#%%\n"
    }
   },
   "outputs": [],
   "source": [
    "pcd = o3d.io.read_point_cloud(str(path2file), format='xyzn')\n",
    "print(pcd)\n",
    "print(np.asarray(pcd.points))"
   ]
  },
  {
   "cell_type": "code",
   "execution_count": null,
   "id": "86be71c3",
   "metadata": {
    "scrolled": true,
    "pycharm": {
     "name": "#%%\n"
    }
   },
   "outputs": [],
   "source": [
    "print(np.asarray(pcd.normals))"
   ]
  },
  {
   "cell_type": "markdown",
   "id": "a1a93751",
   "metadata": {
    "pycharm": {
     "name": "#%% md\n"
    }
   },
   "source": [
    "In our case, these \"normals\" correspond to the laser orientation. Values are identical across the Point Cloud because the sphere was captured with a single orientation. "
   ]
  },
  {
   "cell_type": "code",
   "execution_count": null,
   "id": "bf81e557",
   "metadata": {
    "scrolled": true,
    "pycharm": {
     "name": "#%%\n"
    }
   },
   "outputs": [],
   "source": [
    "laser_ori = np.asarray(pcd.normals)\n",
    "print(laser_ori)"
   ]
  },
  {
   "cell_type": "markdown",
   "id": "8b3a9317",
   "metadata": {
    "pycharm": {
     "name": "#%% md\n"
    }
   },
   "source": [
    "Visualize the Point Cloud."
   ]
  },
  {
   "cell_type": "code",
   "execution_count": null,
   "id": "fa5bea20",
   "metadata": {
    "pycharm": {
     "name": "#%%\n"
    }
   },
   "outputs": [],
   "source": [
    "o3d.visualization.draw_geometries([pcd],\n",
    "                                 window_name='Sphere 16mm Raw Point Cloud',\n",
    "                                 width=1920,\n",
    "                                 height=1080)"
   ]
  },
  {
   "cell_type": "markdown",
   "id": "9c44ae44",
   "metadata": {
    "pycharm": {
     "name": "#%% md\n"
    }
   },
   "source": [
    "Radius outlier removal: Removes points that have neighbors less than nb_points in a sphere of a given radius."
   ]
  },
  {
   "cell_type": "code",
   "execution_count": null,
   "id": "810a3140",
   "metadata": {
    "pycharm": {
     "name": "#%%\n"
    }
   },
   "outputs": [],
   "source": [
    "print(\"Radius outlier removal\")\n",
    "cloud,ind=pcd.remove_radius_outlier(nb_points=30,radius=0.8)\n",
    "inlier_cloud=cloud.select_by_index(ind)\n",
    "outlier_cloud=cloud.select_by_index(ind,invert=True)\n",
    "print(\"Showing outliers(red) and inliers(gray):\")\n",
    "outlier_cloud.paint_uniform_color([1,0,0])\n",
    "inlier_cloud.paint_uniform_color([0.8,0.8,0.8])\n",
    "o3d.visualization.draw_geometries([inlier_cloud,outlier_cloud],\n",
    "                                  window_name='Radius outlier removal, Showing outliers(red) and inliers(gray)',\n",
    "                                  width=1920,\n",
    "                                  height=1080)"
   ]
  },
  {
   "cell_type": "markdown",
   "id": "54e810f2",
   "metadata": {
    "pycharm": {
     "name": "#%% md\n"
    }
   },
   "source": [
    "Statistical outlier removal: Removes points that are further away from their neighbors in average. "
   ]
  },
  {
   "cell_type": "code",
   "execution_count": null,
   "id": "ab829bf0",
   "metadata": {
    "scrolled": true,
    "pycharm": {
     "name": "#%%\n"
    }
   },
   "outputs": [],
   "source": [
    "print(\"Statistical outlier removal\")\n",
    "cloud,ind=pcd.remove_statistical_outlier(nb_neighbors=60,std_ratio=1.0)\n",
    "inlier_cloud=pcd.select_by_index(ind)\n",
    "outlier_cloud=pcd.select_by_index(ind,invert=True)\n",
    "print(\"Showing outliers(red) and inliers(gray):\")\n",
    "outlier_cloud.paint_uniform_color([1,0,0])\n",
    "inlier_cloud.paint_uniform_color([0.8,0.8,0.8])\n",
    "o3d.visualization.draw_geometries([inlier_cloud,outlier_cloud],\n",
    "                                  window_name='Statistical outlier removal, Showing outliers(red) and inliers(gray)',\n",
    "                                  width=1920,\n",
    "                                  height=1080)"
   ]
  },
  {
   "cell_type": "code",
   "execution_count": null,
   "id": "aae03793",
   "metadata": {
    "pycharm": {
     "name": "#%%\n"
    }
   },
   "outputs": [],
   "source": [
    "print(pcd)\n",
    "print(inlier_cloud)"
   ]
  },
  {
   "cell_type": "markdown",
   "id": "68935280",
   "metadata": {
    "pycharm": {
     "name": "#%% md\n"
    }
   },
   "source": [
    "Downsample the Point Cloud via voxelization. Try using different voxel sizes and compare the sizes of the resulting clouds to the raw one. "
   ]
  },
  {
   "cell_type": "code",
   "execution_count": null,
   "id": "314b62bc",
   "metadata": {
    "pycharm": {
     "name": "#%%\n"
    }
   },
   "outputs": [],
   "source": [
    "voxel_size = 0.05\n",
    "print(\"Downsample the point cloud with a voxel of {}mm\".format(voxel_size))\n",
    "downpcd=inlier_cloud.voxel_down_sample(voxel_size=voxel_size)\n",
    "o3d.visualization.draw_geometries([downpcd],\n",
    "                                 window_name='Downsampled sphere, voxel={}mm'.format(voxel_size),\n",
    "                                 width=1920,\n",
    "                                 height=1080)"
   ]
  },
  {
   "cell_type": "code",
   "execution_count": null,
   "id": "a584455c",
   "metadata": {
    "pycharm": {
     "name": "#%%\n"
    }
   },
   "outputs": [],
   "source": [
    "print(inlier_cloud)\n",
    "print(downpcd)"
   ]
  },
  {
   "cell_type": "markdown",
   "id": "7dca7711",
   "metadata": {
    "pycharm": {
     "name": "#%% md\n"
    }
   },
   "source": [
    "Random downsampling, where the sampling ratio: number of selected points to total number of points, a number in the [0-1] interval. "
   ]
  },
  {
   "cell_type": "code",
   "execution_count": null,
   "id": "51dc928c",
   "metadata": {
    "pycharm": {
     "name": "#%%\n"
    }
   },
   "outputs": [],
   "source": [
    "print(\"Random downsampling\")\n",
    "random_down_pcd=inlier_cloud.random_down_sample(sampling_ratio = 0.2)\n",
    "random_down_pcd.paint_uniform_color([0, 1, 0])\n",
    "o3d.visualization.draw_geometries([random_down_pcd],\n",
    "                                 window_name='Randomly downsampled Sphere with sampling ratio = 0.2',\n",
    "                                 width=1920,\n",
    "                                 height=1080)"
   ]
  },
  {
   "cell_type": "code",
   "execution_count": null,
   "id": "15fb07b1",
   "metadata": {
    "pycharm": {
     "name": "#%%\n"
    }
   },
   "outputs": [],
   "source": [
    "print(inlier_cloud)\n",
    "print(random_down_pcd)"
   ]
  },
  {
   "cell_type": "markdown",
   "id": "c6d920e4",
   "metadata": {
    "pycharm": {
     "name": "#%% md\n"
    }
   },
   "source": [
    "We keep the inlier cloud and proceed with uniform downsampling, every k points. This way the linear distribution of points in the raw point cloud is preserved."
   ]
  },
  {
   "cell_type": "code",
   "execution_count": null,
   "id": "823be26a",
   "metadata": {
    "pycharm": {
     "name": "#%%\n"
    }
   },
   "outputs": [],
   "source": [
    "k=5\n",
    "print(\"Every {} points are selected\".format(k))\n",
    "uni_down_pcd=inlier_cloud.uniform_down_sample(every_k_points=5)\n",
    "uni_down_pcd.paint_uniform_color([0.5, 0, 0.5])\n",
    "o3d.visualization.draw_geometries([uni_down_pcd],\n",
    "                                 window_name='Uniformly downsampled Sphere',\n",
    "                                 width=1920,\n",
    "                                 height=1080)"
   ]
  },
  {
   "cell_type": "markdown",
   "id": "0dd539b2",
   "metadata": {
    "pycharm": {
     "name": "#%% md\n"
    }
   },
   "source": [
    "Compare raw to filtered & downsampled Point Cloud size. "
   ]
  },
  {
   "cell_type": "code",
   "execution_count": null,
   "id": "0619786f",
   "metadata": {
    "pycharm": {
     "name": "#%%\n"
    }
   },
   "outputs": [],
   "source": [
    "print(pcd)\n",
    "print(inlier_cloud)\n",
    "print(uni_down_pcd)"
   ]
  },
  {
   "cell_type": "markdown",
   "id": "f4565f9c",
   "metadata": {
    "pycharm": {
     "name": "#%% md\n"
    }
   },
   "source": [
    "Recompute the normals of the downsampled Point Cloud. Ensure normal vectors are consistently aligned. "
   ]
  },
  {
   "cell_type": "code",
   "execution_count": null,
   "id": "18895c8d",
   "metadata": {
    "pycharm": {
     "name": "#%%\n"
    }
   },
   "outputs": [],
   "source": [
    "uni_down_pcd.estimate_normals(search_param=o3d.geometry.KDTreeSearchParamHybrid(radius=0.8,max_nn=100 ))\n",
    "\n",
    "uni_down_pcd.orient_normals_consistent_tangent_plane(100)\n",
    "\n",
    "frame = o3d.geometry.TriangleMesh.create_coordinate_frame(size=1.0, origin=[0, 0, 0])\n",
    "o3d.visualization.draw_geometries([uni_down_pcd, frame],\n",
    "                                 window_name='Recompute the normals of the filtered & downsampled point cloud',\n",
    "                                 width=1920,\n",
    "                                 height=1080,\n",
    "                                 point_show_normal=True)"
   ]
  },
  {
   "cell_type": "markdown",
   "id": "d034fee2",
   "metadata": {
    "pycharm": {
     "name": "#%% md\n"
    }
   },
   "source": [
    "Retrieve number of points in the final Point Cloud & create initial data array for processed Point Cloud. "
   ]
  },
  {
   "cell_type": "code",
   "execution_count": null,
   "id": "fec6e554",
   "metadata": {
    "pycharm": {
     "name": "#%%\n"
    }
   },
   "outputs": [],
   "source": [
    "point_num = len(uni_down_pcd.points)\n",
    "points_normals_laser = np.concatenate((\n",
    "                        np.asarray(uni_down_pcd.points), np.asarray(uni_down_pcd.normals), laser_ori[:point_num]), axis=1)\n",
    "print(points_normals_laser.shape)"
   ]
  },
  {
   "cell_type": "markdown",
   "id": "4c6c6ea4",
   "metadata": {
    "pycharm": {
     "name": "#%% md\n"
    }
   },
   "source": [
    "Create an initial Dataframe for the processed Point Cloud. This will be the basis for feature extraction. "
   ]
  },
  {
   "cell_type": "code",
   "execution_count": null,
   "id": "11bbc924",
   "metadata": {
    "scrolled": true,
    "pycharm": {
     "name": "#%%\n"
    }
   },
   "outputs": [],
   "source": [
    "colnames = ['X', 'Y', 'Z', 'Nx', 'Ny', 'Nz', 'I', 'J', 'K']\n",
    "df = pd.DataFrame(points_normals_laser, columns=colnames)\n",
    "df"
   ]
  },
  {
   "cell_type": "markdown",
   "id": "21097d43",
   "metadata": {
    "pycharm": {
     "name": "#%% md\n"
    }
   },
   "source": [
    "Use laser orientation & the computed normal vectors for feature extraction: Create a function to calculate the Incidence angle of light on the surface at each point. "
   ]
  },
  {
   "cell_type": "code",
   "execution_count": null,
   "id": "eded6381",
   "metadata": {
    "pycharm": {
     "name": "#%%\n"
    }
   },
   "outputs": [],
   "source": [
    "def cosine_incidence(i1, j1, k1, i2, j2, k2):\n",
    "    n1 = np.sqrt(i1**2 + j1**2 + k1**2)\n",
    "    n2 = np.sqrt(i2**2 + j2**2 + k2**2)\n",
    "    dot = np.dot([i1, j1, k1], [i2, j2, k2])\n",
    "    cos = dot / (n1*n2)\n",
    "    return np.arccos(cos)\n",
    "\n",
    "nvec_cos = np.vectorize(cosine_incidence)"
   ]
  },
  {
   "cell_type": "markdown",
   "id": "0892e44f",
   "metadata": {
    "pycharm": {
     "name": "#%% md\n"
    }
   },
   "source": [
    "Apply the function and save results in a new column of the Dataframe. "
   ]
  },
  {
   "cell_type": "code",
   "execution_count": null,
   "id": "390e53e5",
   "metadata": {
    "scrolled": true,
    "pycharm": {
     "name": "#%%\n"
    }
   },
   "outputs": [],
   "source": [
    "df['IncAngle'] = nvec_cos(df.Nx, df.Ny, df.Nz, df.I, df.J, df.K)\n",
    "df"
   ]
  },
  {
   "cell_type": "markdown",
   "id": "fcd4c66c",
   "metadata": {
    "pycharm": {
     "name": "#%% md\n"
    }
   },
   "source": [
    "Retrieve geometry, diameter & scanning parameters from Point Cloud filename. "
   ]
  },
  {
   "cell_type": "code",
   "execution_count": null,
   "id": "1c75f324",
   "metadata": {
    "pycharm": {
     "name": "#%%\n"
    }
   },
   "outputs": [],
   "source": [
    "sparams = filename[:-4].split('_')\n",
    "geometry = sparams[0]\n",
    "diameter = float(sparams[1])\n",
    "lateral_density = int(sparams[2])\n",
    "direction_density = int(sparams[3])\n",
    "exposure_time = float(sparams[4])\n",
    "print('Geometry: ', geometry)\n",
    "print('Diameter: ', diameter, ' mm')\n",
    "print('Lateral Density: ', lateral_density)\n",
    "print('Direction Density: ', direction_density)\n",
    "print('Exposure Time: ', exposure_time)"
   ]
  },
  {
   "cell_type": "markdown",
   "id": "cc04932b",
   "metadata": {
    "pycharm": {
     "name": "#%% md\n"
    }
   },
   "source": [
    "Insert scanning parameters & nominal radius in data array. "
   ]
  },
  {
   "cell_type": "code",
   "execution_count": null,
   "id": "30636d9c",
   "metadata": {
    "scrolled": true,
    "pycharm": {
     "name": "#%%\n"
    }
   },
   "outputs": [],
   "source": [
    "df['LateralDensity'] = lateral_density\n",
    "df['DirectionDensity'] = direction_density\n",
    "df['ExposureTime'] = exposure_time\n",
    "df['Rnom'] = diameter/2\n",
    "df"
   ]
  },
  {
   "cell_type": "markdown",
   "id": "d4a875ea",
   "metadata": {
    "pycharm": {
     "name": "#%% md\n"
    }
   },
   "source": [
    "Calculate radial point deviations from nominal surface: this is the target variable. "
   ]
  },
  {
   "cell_type": "code",
   "execution_count": null,
   "id": "a2d2cf30",
   "metadata": {
    "pycharm": {
     "name": "#%%\n"
    }
   },
   "outputs": [],
   "source": [
    "def calculate_radial_point_dev(x, y, z, radius):\n",
    "    r = np.sqrt(x**2 + y**2 + z**2)\n",
    "    return float(r - radius)\n",
    "\n",
    "nvec_dev = np.vectorize(calculate_radial_point_dev)\n",
    "\n",
    "df['PointDev'] = nvec_dev(df.X, df.Y, df.Z, df.Rnom)\n",
    "df"
   ]
  },
  {
   "cell_type": "markdown",
   "id": "f7bb0579",
   "metadata": {
    "pycharm": {
     "name": "#%% md\n"
    }
   },
   "source": [
    "Save processed Point Cloud in .csv tabular format, making sure to save the header as well: data directly injestible by ML models!"
   ]
  },
  {
   "cell_type": "code",
   "execution_count": null,
   "id": "c6fdeb2a",
   "metadata": {
    "pycharm": {
     "name": "#%%\n"
    }
   },
   "outputs": [],
   "source": [
    "savefile = '_'.join(['Processed', filename[:-4]])\n",
    "savefile += \".csv\"\n",
    "savepath = maindir / savefile\n",
    "df.to_csv(savepath, sep=',', header=True, index=False)"
   ]
  },
  {
   "cell_type": "code",
   "execution_count": null,
   "id": "d349c4b2",
   "metadata": {
    "pycharm": {
     "name": "#%%\n"
    }
   },
   "outputs": [],
   "source": [
    "del df\n",
    "gc.collect()"
   ]
  }
 ],
 "metadata": {
  "kernelspec": {
   "display_name": "Python 3 (ipykernel)",
   "language": "python",
   "name": "python3"
  },
  "language_info": {
   "codemirror_mode": {
    "name": "ipython",
    "version": 3
   },
   "file_extension": ".py",
   "mimetype": "text/x-python",
   "name": "python",
   "nbconvert_exporter": "python",
   "pygments_lexer": "ipython3",
   "version": "3.9.10"
  }
 },
 "nbformat": 4,
 "nbformat_minor": 5
}