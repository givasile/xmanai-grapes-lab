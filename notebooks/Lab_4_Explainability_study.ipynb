{
 "cells": [
  {
   "cell_type": "markdown",
   "id": "3d7bcd20",
   "metadata": {},
   "source": [
    "In this lab we will use Permutation Importance and SHAP values to explain our regression model."
   ]
  },
  {
   "cell_type": "markdown",
   "id": "4406966e",
   "metadata": {},
   "source": [
    "First let's load the necessary libraries"
   ]
  },
  {
   "cell_type": "code",
   "execution_count": null,
   "id": "ced545bf",
   "metadata": {},
   "outputs": [],
   "source": [
    "import numpy as np\n",
    "import pandas as pd\n",
    "import os\n",
    "import gc\n",
    "from pathlib import Path"
   ]
  },
  {
   "cell_type": "code",
   "execution_count": null,
   "id": "76dac46b",
   "metadata": {},
   "outputs": [],
   "source": [
    "from sklearn.model_selection import train_test_split\n",
    "from sklearn.preprocessing import MinMaxScaler\n",
    "from sklearn import metrics\n",
    "from sklearn.tree import DecisionTreeRegressor\n",
    "from sklearn.svm import SVR\n",
    "from sklearn.neural_network import MLPRegressor\n",
    "from sklearn.ensemble import RandomForestRegressor, GradientBoostingRegressor"
   ]
  },
  {
   "cell_type": "code",
   "execution_count": null,
   "id": "d2dd2bfc",
   "metadata": {},
   "outputs": [],
   "source": [
    "from sklearn.inspection import permutation_importance\n",
    "import shap"
   ]
  },
  {
   "cell_type": "code",
   "execution_count": null,
   "id": "8b0c7caf",
   "metadata": {},
   "outputs": [],
   "source": [
    "import matplotlib.pyplot as plt\n",
    "from matplotlib import cm\n",
    "import matplotlib.colors as colors"
   ]
  },
  {
   "cell_type": "markdown",
   "id": "f3756426",
   "metadata": {},
   "source": [
    "Load measurement data into a Dataframe. "
   ]
  },
  {
   "cell_type": "code",
   "execution_count": null,
   "id": "af0669d9",
   "metadata": {
    "scrolled": true
   },
   "outputs": [],
   "source": [
    "maindir = Path.cwd() / \"tutorial_data/\"\n",
    "data = maindir / \"Sphere_data_short.csv\"\n",
    "df = pd.read_csv(data, sep=',', header=0)\n",
    "df"
   ]
  },
  {
   "cell_type": "markdown",
   "id": "57b612c5",
   "metadata": {},
   "source": [
    "Some randomization settings. "
   ]
  },
  {
   "cell_type": "code",
   "execution_count": null,
   "id": "3b044f23",
   "metadata": {},
   "outputs": [],
   "source": [
    "seed_num = 42\n",
    "np.random.seed(seed_num)"
   ]
  },
  {
   "cell_type": "markdown",
   "id": "28712925",
   "metadata": {},
   "source": [
    "Inspection of the columns in the dataset. "
   ]
  },
  {
   "cell_type": "code",
   "execution_count": null,
   "id": "e46716a7",
   "metadata": {
    "scrolled": true
   },
   "outputs": [],
   "source": [
    "df.columns"
   ]
  },
  {
   "cell_type": "markdown",
   "id": "910519a5",
   "metadata": {},
   "source": [
    "Specification of input features and target variable. "
   ]
  },
  {
   "cell_type": "code",
   "execution_count": null,
   "id": "1271700f",
   "metadata": {},
   "outputs": [],
   "source": [
    "feature_names = ['Nx', 'Ny', 'Nz', \n",
    "       'LateralDensity', 'DirectionDensity', 'ExposureTime',\n",
    "       'oriX', 'oriY', 'oriZ', 'Inc', 'ang', 'ViewAng', 'AcmosJ', 'Rs']\n",
    "target_variable = 'PointDev'"
   ]
  },
  {
   "cell_type": "markdown",
   "id": "c674f64f",
   "metadata": {},
   "source": [
    "Features and target are scaled (separately) to the [0, 1] interval. "
   ]
  },
  {
   "cell_type": "code",
   "execution_count": null,
   "id": "3c182a3b",
   "metadata": {},
   "outputs": [],
   "source": [
    "Xall = df[feature_names].values\n",
    "Yall = df[target_variable].values.reshape(-1, 1)\n",
    "scalerX = MinMaxScaler()\n",
    "scalerY = MinMaxScaler()\n",
    "scalerX.fit(Xall)\n",
    "scalerY.fit(Yall)\n",
    "\n",
    "Xsc = scalerX.transform(Xall)\n",
    "Ysc = scalerY.transform(Yall)"
   ]
  },
  {
   "cell_type": "markdown",
   "id": "3c96e1fc",
   "metadata": {},
   "source": [
    "Data are randomly split into train & test partitions. "
   ]
  },
  {
   "cell_type": "code",
   "execution_count": null,
   "id": "8bcef937",
   "metadata": {},
   "outputs": [],
   "source": [
    "X_train, X_test, y_train, y_test = train_test_split(Xsc, Ysc, test_size=0.2, random_state=seed_num)"
   ]
  },
  {
   "cell_type": "markdown",
   "id": "c527fe67",
   "metadata": {},
   "source": [
    "Select a regressor from the available ones and instantiate it. The link below each regressor will take you to the corresponding page in the scikit-learn documentation. Select hyper-parameters & build the model."
   ]
  },
  {
   "cell_type": "code",
   "execution_count": null,
   "id": "0534b4d4",
   "metadata": {},
   "outputs": [],
   "source": [
    "hparams = {'kernel': 'rbf', 'gamma': 'auto', 'epsilon': 0.01, 'C': 10.0, 'tol': 0.001, 'max_iter': 10000}\n",
    "\n",
    "model = SVR(**hparams)\n",
    "## https://scikit-learn.org/stable/modules/generated/sklearn.svm.SVR.html\n",
    "\n",
    "\n",
    "# model = DecisionTreeRegressor()\n",
    "## https://scikit-learn.org/stable/modules/generated/sklearn.tree.DecisionTreeRegressor.html#sklearn.tree.DecisionTreeRegressor\n",
    "\n",
    "\n",
    "# model = MLPRegressor()\n",
    "## https://scikit-learn.org/stable/modules/generated/sklearn.neural_network.MLPRegressor.html\n",
    "\n",
    "\n",
    "# model = RandomForestRegressor()\n",
    "## https://scikit-learn.org/stable/modules/generated/sklearn.ensemble.RandomForestRegressor.html\n"
   ]
  },
  {
   "cell_type": "markdown",
   "id": "84463731",
   "metadata": {},
   "source": [
    "Select appropriate performance scores for the supervised regression task. "
   ]
  },
  {
   "cell_type": "code",
   "execution_count": null,
   "id": "4968e0db",
   "metadata": {},
   "outputs": [],
   "source": [
    "scoring = ['neg_mean_absolute_error', 'neg_mean_absolute_percentage_error']"
   ]
  },
  {
   "cell_type": "markdown",
   "id": "3549fc7b",
   "metadata": {},
   "source": [
    "Train model on the train partition, predict on the test partition. "
   ]
  },
  {
   "cell_type": "code",
   "execution_count": null,
   "id": "2b0c8626",
   "metadata": {},
   "outputs": [],
   "source": [
    "trained_model = model.fit(X_train, y_train.ravel())\n",
    "predictions = trained_model.predict(X_test)"
   ]
  },
  {
   "cell_type": "markdown",
   "id": "74439ea1",
   "metadata": {},
   "source": [
    "Compute performance scores on the unseen test partition. "
   ]
  },
  {
   "cell_type": "code",
   "execution_count": null,
   "id": "e1ebc724",
   "metadata": {},
   "outputs": [],
   "source": [
    "mae = metrics.mean_absolute_error(y_test.ravel(), predictions)\n",
    "mape = metrics.mean_absolute_percentage_error(y_test.ravel(), predictions)"
   ]
  },
  {
   "cell_type": "code",
   "execution_count": null,
   "id": "2a2f02ee",
   "metadata": {},
   "outputs": [],
   "source": [
    "mae"
   ]
  },
  {
   "cell_type": "markdown",
   "id": "9a19ddbd",
   "metadata": {},
   "source": [
    "Let's compute Permutation Importance scores for the trained model. Permutation Importance will be calculated on the test partition, as the mean (over 10 repetitions) drop in performance scores when a feature is permuted."
   ]
  },
  {
   "cell_type": "code",
   "execution_count": null,
   "id": "2ab996bb",
   "metadata": {},
   "outputs": [],
   "source": [
    "r = permutation_importance(trained_model, X_test, y_test, n_repeats=10, random_state=seed_num, scoring=scoring)"
   ]
  },
  {
   "cell_type": "code",
   "execution_count": null,
   "id": "831914b0",
   "metadata": {},
   "outputs": [],
   "source": [
    "mean_importances_mae = r['neg_mean_absolute_error']['importances_mean']\n",
    "std_importances_mae = r['neg_mean_absolute_error']['importances_std']"
   ]
  },
  {
   "cell_type": "code",
   "execution_count": null,
   "id": "a471ea37",
   "metadata": {},
   "outputs": [],
   "source": [
    "names = []\n",
    "meanimp_mae = []\n",
    "stdimp_mae = []\n",
    "\n",
    "for i in mean_importances_mae.argsort():\n",
    "    names.append(feature_names[i])\n",
    "    meanimp_mae.append(mean_importances_mae[i])\n",
    "    stdimp_mae.append(std_importances_mae[i])"
   ]
  },
  {
   "cell_type": "code",
   "execution_count": null,
   "id": "e2634da1",
   "metadata": {},
   "outputs": [],
   "source": [
    "fig, ax = plt.subplots(figsize=(19, 12))\n",
    "\n",
    "ax.barh(names, meanimp_mae, facecolor='g', xerr=stdimp_mae)\n",
    "ax.set_xlabel('Feature Importance scores', fontsize=18)\n",
    "ax.set_ylabel('Input Features', fontsize=18)\n",
    "ax.set_title('Permutation Importance based on MAE', fontsize=20)\n",
    "\n",
    "savefile = maindir / 'PermutationImportanceMAE_SVM.png'\n",
    "plt.savefig(savefile, bbox_inches='tight', pad_inches=0.1, format='png')\n",
    "#plt.close(\"all\")"
   ]
  },
  {
   "cell_type": "code",
   "execution_count": null,
   "id": "f5b9a224",
   "metadata": {},
   "outputs": [],
   "source": [
    "plt.close(\"all\")"
   ]
  },
  {
   "cell_type": "markdown",
   "id": "04ae15b7",
   "metadata": {},
   "source": [
    "Now let's train a decision tree (or tree-based ensemble like Random Forest) and investigate feature attributions through SHAP values. Although the method in theory is model-agnostic, model-specific implementations such as the TreeExplainer) run much faster than the model-agnostic implementation (KernelExplainer)."
   ]
  },
  {
   "cell_type": "code",
   "execution_count": null,
   "id": "9c9b179b",
   "metadata": {},
   "outputs": [],
   "source": [
    "hparams = {'criterion': 'squared_error', 'splitter': 'best', 'max_depth':4}\n",
    "model = DecisionTreeRegressor(**hparams)\n",
    "model.fit(X_train, y_train.ravel())\n",
    "predictions = model.predict(X_test)\n",
    "mae = metrics.mean_absolute_error(y_test.ravel(), predictions)\n",
    "mape = metrics.mean_absolute_percentage_error(y_test.ravel(), predictions)\n",
    "print(\"Mean Absolute Error = {} mm\".format(mae))"
   ]
  },
  {
   "cell_type": "markdown",
   "id": "2cad9544",
   "metadata": {},
   "source": [
    "We instantiate the explainer on the trained model and calculate SHAP values on the test set. An overview of feature attributions can be visualized in a summary plot. "
   ]
  },
  {
   "cell_type": "code",
   "execution_count": null,
   "id": "faabf2fa",
   "metadata": {
    "scrolled": false
   },
   "outputs": [],
   "source": [
    "shap.initjs()\n",
    "ex = shap.TreeExplainer(model)\n",
    "shap_values = ex.shap_values(X_test)\n",
    "shap.summary_plot(shap_values, X_test, feature_names=feature_names)"
   ]
  },
  {
   "cell_type": "markdown",
   "id": "d2e762ac",
   "metadata": {},
   "source": [
    "Let's make a dependence plot for the feature with the highest importance (Rs). Vertical spread in a dependence plot represents the effects of non-linear interactions between features. "
   ]
  },
  {
   "cell_type": "code",
   "execution_count": null,
   "id": "ad9830cb",
   "metadata": {
    "scrolled": true
   },
   "outputs": [],
   "source": [
    "shap.dependence_plot(13, shap_values, X_test, feature_names=feature_names)"
   ]
  },
  {
   "cell_type": "markdown",
   "id": "b642bf72",
   "metadata": {},
   "source": [
    "Figures created using the shap library can be manipulated with matplotlib.pyplot, as below. "
   ]
  },
  {
   "cell_type": "code",
   "execution_count": null,
   "id": "2a82c004",
   "metadata": {
    "scrolled": false
   },
   "outputs": [],
   "source": [
    "f = plt.figure()\n",
    "shap.summary_plot(shap_values, X_test, feature_names=feature_names)\n",
    "f.savefig(\"summary_plot1.png\", bbox_inches='tight', dpi=600)"
   ]
  },
  {
   "cell_type": "markdown",
   "id": "7eede0d4",
   "metadata": {},
   "source": [
    "Finally, let's visualize a force plot to explain a certain prediction (local explanation). The base value is “the value that would be predicted if we did not know any features for the current output.” In other words, it is the mean prediction."
   ]
  },
  {
   "cell_type": "code",
   "execution_count": null,
   "id": "bf1bf9dc",
   "metadata": {
    "scrolled": true
   },
   "outputs": [],
   "source": [
    "shap.initjs()\n",
    "shap.force_plot(ex.expected_value, shap_values[10,:], X_test[10,:], feature_names=feature_names)"
   ]
  },
  {
   "cell_type": "code",
   "execution_count": null,
   "id": "f566d3ad",
   "metadata": {},
   "outputs": [],
   "source": []
  }
 ],
 "metadata": {
  "kernelspec": {
   "display_name": "Python 3 (ipykernel)",
   "language": "python",
   "name": "python3"
  },
  "language_info": {
   "codemirror_mode": {
    "name": "ipython",
    "version": 3
   },
   "file_extension": ".py",
   "mimetype": "text/x-python",
   "name": "python",
   "nbconvert_exporter": "python",
   "pygments_lexer": "ipython3",
   "version": "3.9.10"
  }
 },
 "nbformat": 4,
 "nbformat_minor": 5
}
